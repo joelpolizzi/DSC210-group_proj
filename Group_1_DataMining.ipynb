{
  "nbformat": 4,
  "nbformat_minor": 0,
  "metadata": {
    "colab": {
      "provenance": [],
      "include_colab_link": true
    },
    "kernelspec": {
      "name": "python3",
      "display_name": "Python 3"
    },
    "language_info": {
      "name": "python"
    }
  },
  "cells": [
    {
      "cell_type": "markdown",
      "metadata": {
        "id": "view-in-github",
        "colab_type": "text"
      },
      "source": [
        "<a href=\"https://colab.research.google.com/github/joelpolizzi/DSC210-group_proj/blob/main/Group_1_DataMining.ipynb\" target=\"_parent\"><img src=\"https://colab.research.google.com/assets/colab-badge.svg\" alt=\"Open In Colab\"/></a>"
      ]
    },
    {
      "cell_type": "markdown",
      "source": [
        "Group 1 Google Colab environment."
      ],
      "metadata": {
        "id": "4FNDCvAG0VkC"
      }
    },
    {
      "cell_type": "markdown",
      "source": [
        "Upgrade our pip environment to ensure we have access to the latest pip packages on pypi."
      ],
      "metadata": {
        "id": "LYvJFMYkugMR"
      }
    },
    {
      "cell_type": "code",
      "source": [
        "!python3 -m pip install --upgrade pip"
      ],
      "metadata": {
        "id": "QJkQ1uFOpORN",
        "outputId": "93308d44-dc35-4a59-81b4-5e639a2eb364",
        "colab": {
          "base_uri": "https://localhost:8080/"
        }
      },
      "execution_count": 1,
      "outputs": [
        {
          "output_type": "stream",
          "name": "stdout",
          "text": [
            "Requirement already satisfied: pip in /usr/local/lib/python3.10/dist-packages (24.3.1)\n"
          ]
        }
      ]
    },
    {
      "cell_type": "markdown",
      "source": [
        "Install dependencies"
      ],
      "metadata": {
        "id": "vMOJDLyJuwEu"
      }
    },
    {
      "cell_type": "code",
      "source": [
        "!python3 -m pip install \\\n",
        "datasets \\\n",
        "implicit \\\n",
        "scikit-surprise"
      ],
      "metadata": {
        "id": "KOl-jnjApoSu",
        "outputId": "f0413a44-5b39-49b3-a1d4-19a123b50c00",
        "colab": {
          "base_uri": "https://localhost:8080/"
        }
      },
      "execution_count": 9,
      "outputs": [
        {
          "output_type": "stream",
          "name": "stdout",
          "text": [
            "Requirement already satisfied: datasets in /usr/local/lib/python3.10/dist-packages (3.1.0)\n",
            "Requirement already satisfied: implicit in /usr/local/lib/python3.10/dist-packages (0.7.2)\n",
            "Collecting scikit-surprise\n",
            "  Using cached scikit_surprise-1.1.4.tar.gz (154 kB)\n",
            "  Installing build dependencies ... \u001b[?25l\u001b[?25hdone\n",
            "  Getting requirements to build wheel ... \u001b[?25l\u001b[?25hdone\n",
            "  Preparing metadata (pyproject.toml) ... \u001b[?25l\u001b[?25hdone\n",
            "Requirement already satisfied: filelock in /usr/local/lib/python3.10/dist-packages (from datasets) (3.16.1)\n",
            "Requirement already satisfied: numpy>=1.17 in /usr/local/lib/python3.10/dist-packages (from datasets) (1.26.4)\n",
            "Requirement already satisfied: pyarrow>=15.0.0 in /usr/local/lib/python3.10/dist-packages (from datasets) (17.0.0)\n",
            "Requirement already satisfied: dill<0.3.9,>=0.3.0 in /usr/local/lib/python3.10/dist-packages (from datasets) (0.3.8)\n",
            "Requirement already satisfied: pandas in /usr/local/lib/python3.10/dist-packages (from datasets) (2.2.2)\n",
            "Requirement already satisfied: requests>=2.32.2 in /usr/local/lib/python3.10/dist-packages (from datasets) (2.32.3)\n",
            "Requirement already satisfied: tqdm>=4.66.3 in /usr/local/lib/python3.10/dist-packages (from datasets) (4.66.6)\n",
            "Requirement already satisfied: xxhash in /usr/local/lib/python3.10/dist-packages (from datasets) (3.5.0)\n",
            "Requirement already satisfied: multiprocess<0.70.17 in /usr/local/lib/python3.10/dist-packages (from datasets) (0.70.16)\n",
            "Requirement already satisfied: fsspec<=2024.9.0,>=2023.1.0 in /usr/local/lib/python3.10/dist-packages (from fsspec[http]<=2024.9.0,>=2023.1.0->datasets) (2024.9.0)\n",
            "Requirement already satisfied: aiohttp in /usr/local/lib/python3.10/dist-packages (from datasets) (3.10.10)\n",
            "Requirement already satisfied: huggingface-hub>=0.23.0 in /usr/local/lib/python3.10/dist-packages (from datasets) (0.24.7)\n",
            "Requirement already satisfied: packaging in /usr/local/lib/python3.10/dist-packages (from datasets) (24.1)\n",
            "Requirement already satisfied: pyyaml>=5.1 in /usr/local/lib/python3.10/dist-packages (from datasets) (6.0.2)\n",
            "Requirement already satisfied: scipy>=0.16 in /usr/local/lib/python3.10/dist-packages (from implicit) (1.13.1)\n",
            "Requirement already satisfied: threadpoolctl in /usr/local/lib/python3.10/dist-packages (from implicit) (3.5.0)\n",
            "Requirement already satisfied: joblib>=1.2.0 in /usr/local/lib/python3.10/dist-packages (from scikit-surprise) (1.4.2)\n",
            "Requirement already satisfied: aiohappyeyeballs>=2.3.0 in /usr/local/lib/python3.10/dist-packages (from aiohttp->datasets) (2.4.3)\n",
            "Requirement already satisfied: aiosignal>=1.1.2 in /usr/local/lib/python3.10/dist-packages (from aiohttp->datasets) (1.3.1)\n",
            "Requirement already satisfied: attrs>=17.3.0 in /usr/local/lib/python3.10/dist-packages (from aiohttp->datasets) (24.2.0)\n",
            "Requirement already satisfied: frozenlist>=1.1.1 in /usr/local/lib/python3.10/dist-packages (from aiohttp->datasets) (1.5.0)\n",
            "Requirement already satisfied: multidict<7.0,>=4.5 in /usr/local/lib/python3.10/dist-packages (from aiohttp->datasets) (6.1.0)\n",
            "Requirement already satisfied: yarl<2.0,>=1.12.0 in /usr/local/lib/python3.10/dist-packages (from aiohttp->datasets) (1.17.0)\n",
            "Requirement already satisfied: async-timeout<5.0,>=4.0 in /usr/local/lib/python3.10/dist-packages (from aiohttp->datasets) (4.0.3)\n",
            "Requirement already satisfied: typing-extensions>=3.7.4.3 in /usr/local/lib/python3.10/dist-packages (from huggingface-hub>=0.23.0->datasets) (4.12.2)\n",
            "Requirement already satisfied: charset-normalizer<4,>=2 in /usr/local/lib/python3.10/dist-packages (from requests>=2.32.2->datasets) (3.4.0)\n",
            "Requirement already satisfied: idna<4,>=2.5 in /usr/local/lib/python3.10/dist-packages (from requests>=2.32.2->datasets) (3.10)\n",
            "Requirement already satisfied: urllib3<3,>=1.21.1 in /usr/local/lib/python3.10/dist-packages (from requests>=2.32.2->datasets) (2.2.3)\n",
            "Requirement already satisfied: certifi>=2017.4.17 in /usr/local/lib/python3.10/dist-packages (from requests>=2.32.2->datasets) (2024.8.30)\n",
            "Requirement already satisfied: python-dateutil>=2.8.2 in /usr/local/lib/python3.10/dist-packages (from pandas->datasets) (2.8.2)\n",
            "Requirement already satisfied: pytz>=2020.1 in /usr/local/lib/python3.10/dist-packages (from pandas->datasets) (2024.2)\n",
            "Requirement already satisfied: tzdata>=2022.7 in /usr/local/lib/python3.10/dist-packages (from pandas->datasets) (2024.2)\n",
            "Requirement already satisfied: six>=1.5 in /usr/local/lib/python3.10/dist-packages (from python-dateutil>=2.8.2->pandas->datasets) (1.16.0)\n",
            "Requirement already satisfied: propcache>=0.2.0 in /usr/local/lib/python3.10/dist-packages (from yarl<2.0,>=1.12.0->aiohttp->datasets) (0.2.0)\n",
            "Building wheels for collected packages: scikit-surprise\n",
            "  Building wheel for scikit-surprise (pyproject.toml) ... \u001b[?25l\u001b[?25hdone\n",
            "  Created wheel for scikit-surprise: filename=scikit_surprise-1.1.4-cp310-cp310-linux_x86_64.whl size=2357267 sha256=10cdf59fd570f1994e467c34e5af5fd0dd6b2873e778277fbd8c4679c314a111\n",
            "  Stored in directory: /root/.cache/pip/wheels/4b/3f/df/6acbf0a40397d9bf3ff97f582cc22fb9ce66adde75bc71fd54\n",
            "Successfully built scikit-surprise\n",
            "Installing collected packages: scikit-surprise\n",
            "Successfully installed scikit-surprise-1.1.4\n"
          ]
        }
      ]
    },
    {
      "cell_type": "markdown",
      "source": [
        "Import our required packages"
      ],
      "metadata": {
        "id": "cFueLH5tu0l6"
      }
    },
    {
      "cell_type": "code",
      "source": [
        "import gzip\n",
        "import random\n",
        "import scipy\n",
        "import pandas as pd\n",
        "import tensorflow as tf\n",
        "\n",
        "from collections import defaultdict\n",
        "from datasets import load_dataset\n",
        "from implicit import bpr\n",
        "from surprise import SVD, Reader, Dataset\n",
        "from surprise.model_selection import train_test_split"
      ],
      "metadata": {
        "id": "s1VUwsglp3qj"
      },
      "execution_count": 11,
      "outputs": []
    },
    {
      "cell_type": "markdown",
      "source": [
        "Load the Amazon reviews dataset from Huggingface"
      ],
      "metadata": {
        "id": "yTmBuH42u4fx"
      }
    },
    {
      "cell_type": "code",
      "source": [
        "dataset = load_dataset(\"McAuley-Lab/Amazon-Reviews-2023\", \"raw_review_Musical_Instruments\", trust_remote_code=True)\n",
        "print(dataset[\"full\"][0])\n",
        "\n",
        "#Print our splits\n",
        "print(dataset.keys())\n",
        "print(len(dataset[\"full\"]))"
      ],
      "metadata": {
        "id": "p4-VSfYq0U9Y",
        "outputId": "1a6f71be-4ca9-434a-de6f-bc2f86d6b4bc",
        "colab": {
          "base_uri": "https://localhost:8080/"
        }
      },
      "execution_count": 25,
      "outputs": [
        {
          "output_type": "stream",
          "name": "stdout",
          "text": [
            "{'rating': 5.0, 'title': 'Five Stars', 'text': 'Great headphones, comfortable and sound is good. No complaints. I would buy again.', 'images': [], 'asin': 'B003LPTAYI', 'parent_asin': 'B003LPTAYI', 'user_id': 'AGKASBHYZPGTEPO6LWZPVJWB2BVA', 'timestamp': 1452650586000, 'helpful_vote': 0, 'verified_purchase': True}\n",
            "dict_keys(['full'])\n",
            "3017439\n"
          ]
        }
      ]
    },
    {
      "cell_type": "markdown",
      "source": [
        "Load the dataset into a pandas dataframe"
      ],
      "metadata": {
        "id": "hxrhM3XwvBxR"
      }
    },
    {
      "cell_type": "code",
      "source": [
        "df = pd.DataFrame(dataset['full'][:len(dataset['full']) // 10]).sample(frac=0.5)\n",
        "print(df.head())\n",
        "\n",
        "# Define a Reader object\n",
        "#reader = Reader(rating_scale=(1, 5))  # Adjust the scale based on your dataset\n",
        "\n",
        "# Load the DataFrame into Surprise\n",
        "#surprise_data = Dataset.load_from_df(df[['rating', 'title', 'text']], reader)"
      ],
      "metadata": {
        "id": "oSwhybX3xWY8",
        "outputId": "7cc78af7-9cce-4278-f4e3-776ad98da660",
        "colab": {
          "base_uri": "https://localhost:8080/"
        }
      },
      "execution_count": 41,
      "outputs": [
        {
          "output_type": "stream",
          "name": "stdout",
          "text": [
            "        rating                      title  \\\n",
            "104041     5.0                 Five Stars   \n",
            "208678     5.0  Very Durable Hardware Bag   \n",
            "227472     1.0                    Bootleg   \n",
            "257673     5.0                   The best   \n",
            "13237      3.0                  Bent head   \n",
            "\n",
            "                                                     text images        asin  \\\n",
            "104041                                            Perfect     []  B015FMGSRG   \n",
            "208678  Got this yesterday and was immediately impress...     []  B0002F7A06   \n",
            "227472                                            Bootleg     []  B0816LNPJ7   \n",
            "257673                                  Everyone loves it     []  B08T7DDDY8   \n",
            "13237                                         Came warped     []  B004A15B18   \n",
            "\n",
            "       parent_asin                       user_id      timestamp  helpful_vote  \\\n",
            "104041  B015FMGSRG  AELBH4CIY7K2E5OE67MG4EPFY2NQ  1478887677000             0   \n",
            "208678  B0002F7A06  AH3MRXZ3RDJEW2ZEHK5YMR7VQF3A  1340466016000             9   \n",
            "227472  B0816LNPJ7  AFIKH6BN5F4B42YK3HBMQZKJZFHA  1573293095378             1   \n",
            "257673  B09W4F2X6S  AEGR2MYYTEYPEQB5JWBV5D2XC3NQ  1660738389446             0   \n",
            "13237   B004A15B18  AF2WW75F2CGMZ2ZXWI6ZCORWQH3Q  1541241912427             0   \n",
            "\n",
            "        verified_purchase  \n",
            "104041               True  \n",
            "208678               True  \n",
            "227472              False  \n",
            "257673               True  \n",
            "13237                True  \n"
          ]
        }
      ]
    }
  ]
}