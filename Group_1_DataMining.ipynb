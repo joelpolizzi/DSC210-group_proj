{
  "nbformat": 4,
  "nbformat_minor": 0,
  "metadata": {
    "colab": {
      "provenance": []
    },
    "kernelspec": {
      "name": "python3",
      "display_name": "Python 3"
    },
    "language_info": {
      "name": "python"
    }
  },
  "cells": [
    {
      "cell_type": "markdown",
      "source": [
        "Group 1 Google Colab environment."
      ],
      "metadata": {
        "id": "4FNDCvAG0VkC"
      }
    },
    {
      "cell_type": "code",
      "source": [],
      "metadata": {
        "id": "p4-VSfYq0U9Y"
      },
      "execution_count": null,
      "outputs": []
    }
  ]
}