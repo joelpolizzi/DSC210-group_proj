{
  "nbformat": 4,
  "nbformat_minor": 0,
  "metadata": {
    "colab": {
      "provenance": []
    },
    "kernelspec": {
      "name": "python3",
      "display_name": "Python 3"
    },
    "language_info": {
      "name": "python"
    }
  },
  "cells": [
    {
      "cell_type": "markdown",
      "source": [
        "Group 1 Google Colab environment."
      ],
      "metadata": {
        "id": "4FNDCvAG0VkC"
      }
    },
    {
      "cell_type": "markdown",
      "source": [
        "Upgrade our pip environment to ensure we have access to the latest pip packages on pypi."
      ],
      "metadata": {
        "id": "LYvJFMYkugMR"
      }
    },
    {
      "cell_type": "code",
      "source": [
        "!python3 -m pip install --upgrade pip"
      ],
      "metadata": {
        "colab": {
          "base_uri": "https://localhost:8080/"
        },
        "id": "QJkQ1uFOpORN",
        "outputId": "2ddd9e3b-f01a-4320-e338-fb272cf29c3a"
      },
      "execution_count": 2,
      "outputs": [
        {
          "output_type": "stream",
          "name": "stdout",
          "text": [
            "Requirement already satisfied: pip in /usr/local/lib/python3.10/dist-packages (24.3.1)\n"
          ]
        }
      ]
    },
    {
      "cell_type": "markdown",
      "source": [
        "Install dependencies"
      ],
      "metadata": {
        "id": "vMOJDLyJuwEu"
      }
    },
    {
      "cell_type": "code",
      "source": [
        "!python3 -m pip install \\\n",
        "datasets \\\n",
        "implicit \\\n",
        "scikit-surprise"
      ],
      "metadata": {
        "colab": {
          "base_uri": "https://localhost:8080/"
        },
        "id": "KOl-jnjApoSu",
        "outputId": "bc7690ad-0567-4899-d597-c92a52ad2510"
      },
      "execution_count": 3,
      "outputs": [
        {
          "output_type": "stream",
          "name": "stdout",
          "text": [
            "Requirement already satisfied: datasets in /usr/local/lib/python3.10/dist-packages (3.1.0)\n",
            "Requirement already satisfied: implicit in /usr/local/lib/python3.10/dist-packages (0.7.2)\n",
            "Requirement already satisfied: scikit-surprise in /usr/local/lib/python3.10/dist-packages (1.1.4)\n",
            "Requirement already satisfied: filelock in /usr/local/lib/python3.10/dist-packages (from datasets) (3.16.1)\n",
            "Requirement already satisfied: numpy>=1.17 in /usr/local/lib/python3.10/dist-packages (from datasets) (1.26.4)\n",
            "Requirement already satisfied: pyarrow>=15.0.0 in /usr/local/lib/python3.10/dist-packages (from datasets) (17.0.0)\n",
            "Requirement already satisfied: dill<0.3.9,>=0.3.0 in /usr/local/lib/python3.10/dist-packages (from datasets) (0.3.8)\n",
            "Requirement already satisfied: pandas in /usr/local/lib/python3.10/dist-packages (from datasets) (2.2.2)\n",
            "Requirement already satisfied: requests>=2.32.2 in /usr/local/lib/python3.10/dist-packages (from datasets) (2.32.3)\n",
            "Requirement already satisfied: tqdm>=4.66.3 in /usr/local/lib/python3.10/dist-packages (from datasets) (4.66.6)\n",
            "Requirement already satisfied: xxhash in /usr/local/lib/python3.10/dist-packages (from datasets) (3.5.0)\n",
            "Requirement already satisfied: multiprocess<0.70.17 in /usr/local/lib/python3.10/dist-packages (from datasets) (0.70.16)\n",
            "Requirement already satisfied: fsspec<=2024.9.0,>=2023.1.0 in /usr/local/lib/python3.10/dist-packages (from fsspec[http]<=2024.9.0,>=2023.1.0->datasets) (2024.9.0)\n",
            "Requirement already satisfied: aiohttp in /usr/local/lib/python3.10/dist-packages (from datasets) (3.10.10)\n",
            "Requirement already satisfied: huggingface-hub>=0.23.0 in /usr/local/lib/python3.10/dist-packages (from datasets) (0.24.7)\n",
            "Requirement already satisfied: packaging in /usr/local/lib/python3.10/dist-packages (from datasets) (24.1)\n",
            "Requirement already satisfied: pyyaml>=5.1 in /usr/local/lib/python3.10/dist-packages (from datasets) (6.0.2)\n",
            "Requirement already satisfied: scipy>=0.16 in /usr/local/lib/python3.10/dist-packages (from implicit) (1.13.1)\n",
            "Requirement already satisfied: threadpoolctl in /usr/local/lib/python3.10/dist-packages (from implicit) (3.5.0)\n",
            "Requirement already satisfied: joblib>=1.2.0 in /usr/local/lib/python3.10/dist-packages (from scikit-surprise) (1.4.2)\n",
            "Requirement already satisfied: aiohappyeyeballs>=2.3.0 in /usr/local/lib/python3.10/dist-packages (from aiohttp->datasets) (2.4.3)\n",
            "Requirement already satisfied: aiosignal>=1.1.2 in /usr/local/lib/python3.10/dist-packages (from aiohttp->datasets) (1.3.1)\n",
            "Requirement already satisfied: attrs>=17.3.0 in /usr/local/lib/python3.10/dist-packages (from aiohttp->datasets) (24.2.0)\n",
            "Requirement already satisfied: frozenlist>=1.1.1 in /usr/local/lib/python3.10/dist-packages (from aiohttp->datasets) (1.5.0)\n",
            "Requirement already satisfied: multidict<7.0,>=4.5 in /usr/local/lib/python3.10/dist-packages (from aiohttp->datasets) (6.1.0)\n",
            "Requirement already satisfied: yarl<2.0,>=1.12.0 in /usr/local/lib/python3.10/dist-packages (from aiohttp->datasets) (1.17.0)\n",
            "Requirement already satisfied: async-timeout<5.0,>=4.0 in /usr/local/lib/python3.10/dist-packages (from aiohttp->datasets) (4.0.3)\n",
            "Requirement already satisfied: typing-extensions>=3.7.4.3 in /usr/local/lib/python3.10/dist-packages (from huggingface-hub>=0.23.0->datasets) (4.12.2)\n",
            "Requirement already satisfied: charset-normalizer<4,>=2 in /usr/local/lib/python3.10/dist-packages (from requests>=2.32.2->datasets) (3.4.0)\n",
            "Requirement already satisfied: idna<4,>=2.5 in /usr/local/lib/python3.10/dist-packages (from requests>=2.32.2->datasets) (3.10)\n",
            "Requirement already satisfied: urllib3<3,>=1.21.1 in /usr/local/lib/python3.10/dist-packages (from requests>=2.32.2->datasets) (2.2.3)\n",
            "Requirement already satisfied: certifi>=2017.4.17 in /usr/local/lib/python3.10/dist-packages (from requests>=2.32.2->datasets) (2024.8.30)\n",
            "Requirement already satisfied: python-dateutil>=2.8.2 in /usr/local/lib/python3.10/dist-packages (from pandas->datasets) (2.8.2)\n",
            "Requirement already satisfied: pytz>=2020.1 in /usr/local/lib/python3.10/dist-packages (from pandas->datasets) (2024.2)\n",
            "Requirement already satisfied: tzdata>=2022.7 in /usr/local/lib/python3.10/dist-packages (from pandas->datasets) (2024.2)\n",
            "Requirement already satisfied: six>=1.5 in /usr/local/lib/python3.10/dist-packages (from python-dateutil>=2.8.2->pandas->datasets) (1.16.0)\n",
            "Requirement already satisfied: propcache>=0.2.0 in /usr/local/lib/python3.10/dist-packages (from yarl<2.0,>=1.12.0->aiohttp->datasets) (0.2.0)\n"
          ]
        }
      ]
    },
    {
      "cell_type": "markdown",
      "source": [
        "Import our required packages"
      ],
      "metadata": {
        "id": "cFueLH5tu0l6"
      }
    },
    {
      "cell_type": "code",
      "source": [
        "import gzip\n",
        "import random\n",
        "import scipy\n",
        "import pandas as pd\n",
        "import tensorflow as tf\n",
        "\n",
        "from collections import defaultdict\n",
        "from datasets import load_dataset\n",
        "from implicit import bpr\n",
        "from surprise import SVD, Reader, Dataset\n",
        "from surprise.model_selection import train_test_split"
      ],
      "metadata": {
        "id": "s1VUwsglp3qj"
      },
      "execution_count": 4,
      "outputs": []
    },
    {
      "cell_type": "markdown",
      "source": [
        "Load the Amazon reviews dataset from Huggingface"
      ],
      "metadata": {
        "id": "yTmBuH42u4fx"
      }
    },
    {
      "cell_type": "code",
      "source": [
        "dataset = load_dataset(\"McAuley-Lab/Amazon-Reviews-2023\", \"raw_review_Musical_Instruments\", trust_remote_code=True)\n",
        "print(dataset[\"full\"][0])\n",
        "\n",
        "#Print our splits\n",
        "print(dataset.keys())\n",
        "print(len(dataset[\"full\"]))"
      ],
      "metadata": {
        "id": "p4-VSfYq0U9Y",
        "colab": {
          "base_uri": "https://localhost:8080/"
        },
        "outputId": "d0d46e91-2e73-4f62-ed55-8bfbeb288939"
      },
      "execution_count": 5,
      "outputs": [
        {
          "output_type": "stream",
          "name": "stderr",
          "text": [
            "/usr/local/lib/python3.10/dist-packages/huggingface_hub/utils/_token.py:89: UserWarning: \n",
            "The secret `HF_TOKEN` does not exist in your Colab secrets.\n",
            "To authenticate with the Hugging Face Hub, create a token in your settings tab (https://huggingface.co/settings/tokens), set it as secret in your Google Colab and restart your session.\n",
            "You will be able to reuse this secret in all of your notebooks.\n",
            "Please note that authentication is recommended but still optional to access public models or datasets.\n",
            "  warnings.warn(\n"
          ]
        },
        {
          "output_type": "stream",
          "name": "stdout",
          "text": [
            "{'rating': 5.0, 'title': 'Five Stars', 'text': 'Great headphones, comfortable and sound is good. No complaints. I would buy again.', 'images': [], 'asin': 'B003LPTAYI', 'parent_asin': 'B003LPTAYI', 'user_id': 'AGKASBHYZPGTEPO6LWZPVJWB2BVA', 'timestamp': 1452650586000, 'helpful_vote': 0, 'verified_purchase': True}\n",
            "dict_keys(['full'])\n",
            "3017439\n"
          ]
        }
      ]
    },
    {
      "cell_type": "markdown",
      "source": [
        "Load the dataset into a pandas dataframe"
      ],
      "metadata": {
        "id": "hxrhM3XwvBxR"
      }
    },
    {
      "cell_type": "code",
      "source": [
        "df = pd.DataFrame(dataset['full'][:len(dataset['full']) // 10]).sample(frac=0.5)\n",
        "print(df.head())\n",
        "\n",
        "print(df.dtypes)\n",
        "reader = Reader(rating_scale=(1, 5))\n",
        "\n",
        "surprise_data = Dataset.load_from_df(df[['title', 'text', 'rating']], reader)\n"
      ],
      "metadata": {
        "colab": {
          "base_uri": "https://localhost:8080/"
        },
        "id": "oSwhybX3xWY8",
        "outputId": "33dbc58e-68ef-43a8-9441-d05be3c43405"
      },
      "execution_count": 14,
      "outputs": [
        {
          "output_type": "stream",
          "name": "stdout",
          "text": [
            "        rating                                              title  \\\n",
            "129202     4.0    It worked for what was intended. They are a ...   \n",
            "255033     3.0                            How about some outputs?   \n",
            "111975     5.0  Affordable baritone saxophone that won't disap...   \n",
            "20510      5.0                         Sturdy..good sound quality   \n",
            "89485      3.0                                        Three Stars   \n",
            "\n",
            "                                                     text  \\\n",
            "129202  It worked for what was intended. They are a bi...   \n",
            "255033                     USB only has 2 channels. Fail.   \n",
            "111975  Jay Metcalf  brought me here also, and man am ...   \n",
            "20510   A lot of fun. Learning as I go..fun for easing...   \n",
            "89485                           Good for intended purpose   \n",
            "\n",
            "                                                   images        asin  \\\n",
            "129202                                                 []  B004H6PC4M   \n",
            "255033                                                 []  B07XG6PPMT   \n",
            "111975  [{'attachment_type': 'IMAGE', 'large_image_url...  B08G81YYRG   \n",
            "20510                                                  []  B09FPH69SB   \n",
            "89485                                                  []  B00191WVF6   \n",
            "\n",
            "       parent_asin                       user_id      timestamp  helpful_vote  \\\n",
            "129202  B00V31Y8MG  AHGSLXHSI2QM36AEUPEGTU25V2QA  1435957369000             0   \n",
            "255033  B0B66WWHTP  AEB3FFGFI5H37NBEIROPDUR2HDPA  1604055646782             1   \n",
            "111975  B08G81YYRG  AE6JWIQTM4IE3T2GRGL4NFYAIOLA  1614716454307             3   \n",
            "20510   B0C249JSBY  AFDDB5P7IT6TTT5WMCUOB5YBD3CQ  1652412019057             1   \n",
            "89485   B00WJ3HL5I  AHYH6UNQG6BREQC4K36OXWBWE6UA  1483195501000             0   \n",
            "\n",
            "        verified_purchase  \n",
            "129202               True  \n",
            "255033               True  \n",
            "111975               True  \n",
            "20510                True  \n",
            "89485               False  \n",
            "rating               float64\n",
            "title                 object\n",
            "text                  object\n",
            "images                object\n",
            "asin                  object\n",
            "parent_asin           object\n",
            "user_id               object\n",
            "timestamp              int64\n",
            "helpful_vote           int64\n",
            "verified_purchase       bool\n",
            "dtype: object\n"
          ]
        }
      ]
    },
    {
      "cell_type": "code",
      "source": [
        "model = SVD()\n",
        "trainset, testset = train_test_split(surprise_data, test_size=.25)\n",
        "\n",
        "model.fit(trainset)\n",
        "predictions = model.test(testset)"
      ],
      "metadata": {
        "id": "Ij0jwJZiBv-G"
      },
      "execution_count": 16,
      "outputs": []
    },
    {
      "cell_type": "code",
      "source": [
        "predictions[0].est"
      ],
      "metadata": {
        "id": "AU_uH33DB3s8",
        "outputId": "3bdc3403-3fcd-4810-de0b-364f21752314",
        "colab": {
          "base_uri": "https://localhost:8080/"
        }
      },
      "execution_count": 19,
      "outputs": [
        {
          "output_type": "execute_result",
          "data": {
            "text/plain": [
              "4.608400874540823"
            ]
          },
          "metadata": {},
          "execution_count": 19
        }
      ]
    },
    {
      "cell_type": "code",
      "source": [
        "sse = 0\n",
        "for p in predictions:\n",
        "    sse += (p.r_ui - p.est)**2\n",
        "\n",
        "print(sse / len(predictions))"
      ],
      "metadata": {
        "id": "Ojzg7xHqCEt5",
        "outputId": "d3b6060a-d28b-42cb-dc60-ec3b9ad57ce7",
        "colab": {
          "base_uri": "https://localhost:8080/"
        }
      },
      "execution_count": 18,
      "outputs": [
        {
          "output_type": "stream",
          "name": "stdout",
          "text": [
            "1.1169467206169177\n"
          ]
        }
      ]
    }
  ]
}